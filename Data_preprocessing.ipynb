{
  "cells": [
    {
      "cell_type": "markdown",
      "metadata": {
        "id": "view-in-github",
        "colab_type": "text"
      },
      "source": [
        "<a href=\"https://colab.research.google.com/github/YooJung-Moon/Classification-of-Diseases-in-K-melon/blob/main/Data_preprocessing.ipynb\" target=\"_parent\"><img src=\"https://colab.research.google.com/assets/colab-badge.svg\" alt=\"Open In Colab\"/></a>"
      ]
    },
    {
      "cell_type": "code",
      "execution_count": null,
      "id": "6f9ed820",
      "metadata": {
        "scrolled": true,
        "id": "6f9ed820",
        "outputId": "31163a24-ad09-4437-b625-593271ac00a0"
      },
      "outputs": [
        {
          "name": "stdout",
          "output_type": "stream",
          "text": [
            "Note: you may need to restart the kernel to use updated packages.\n",
            "Requirement already satisfied: tqdm in c:\\users\\yewon\\anaconda3\\lib\\site-packages (4.64.1)\n",
            "Requirement already satisfied: colorama in c:\\users\\yewon\\anaconda3\\lib\\site-packages (from tqdm) (0.4.6)\n"
          ]
        }
      ],
      "source": [
        "pip install tqdm"
      ]
    },
    {
      "cell_type": "code",
      "execution_count": null,
      "id": "c11973f3",
      "metadata": {
        "scrolled": true,
        "id": "c11973f3",
        "outputId": "ba4153a0-ad55-4988-8711-4b0ee90e5231"
      },
      "outputs": [
        {
          "name": "stdout",
          "output_type": "stream",
          "text": [
            "Collecting split-foldersNote: you may need to restart the kernel to use updated packages.\n",
            "\n",
            "  Downloading split_folders-0.5.1-py3-none-any.whl (8.4 kB)\n",
            "Installing collected packages: split-folders\n",
            "Successfully installed split-folders-0.5.1\n"
          ]
        }
      ],
      "source": [
        "pip install split-folders"
      ]
    },
    {
      "cell_type": "code",
      "execution_count": null,
      "id": "fa09b91b",
      "metadata": {
        "id": "fa09b91b"
      },
      "outputs": [],
      "source": [
        "import os\n",
        "import json\n",
        "from tqdm import tqdm\n",
        "from PIL import Image\n",
        "# 경로 설정\n",
        "directory = [\"노균병\",\"노균병유사\",\"정상\",\"흰가루병\",\"흰가루병유사\"]\n",
        "image_path = \"charm/image/\"\n",
        "json_path = \"charm/json/\"\n",
        "\n",
        "# FM02,04 test 폴더 나머지는 train:val = 8:2"
      ]
    },
    {
      "cell_type": "code",
      "execution_count": null,
      "id": "cfb8aa00",
      "metadata": {
        "scrolled": true,
        "id": "cfb8aa00",
        "outputId": "15c85254-5a08-4964-9bab-a7c92d916546"
      },
      "outputs": [
        {
          "name": "stderr",
          "output_type": "stream",
          "text": [
            " 20%|██        | 1/5 [27:39<1:50:39, 1660.00s/it]"
          ]
        },
        {
          "name": "stdout",
          "output_type": "stream",
          "text": [
            "33867 5228\n"
          ]
        },
        {
          "name": "stderr",
          "output_type": "stream",
          "text": [
            " 40%|████      | 2/5 [51:29<1:16:13, 1524.52s/it]"
          ]
        },
        {
          "name": "stdout",
          "output_type": "stream",
          "text": [
            "24119 8208\n"
          ]
        },
        {
          "name": "stderr",
          "output_type": "stream",
          "text": [
            " 60%|██████    | 3/5 [1:15:15<49:19, 1479.59s/it]"
          ]
        },
        {
          "name": "stdout",
          "output_type": "stream",
          "text": [
            "17742 12262\n"
          ]
        },
        {
          "name": "stderr",
          "output_type": "stream",
          "text": [
            " 80%|████████  | 4/5 [1:32:42<21:48, 1308.80s/it]"
          ]
        },
        {
          "name": "stdout",
          "output_type": "stream",
          "text": [
            "23645 2232\n"
          ]
        },
        {
          "name": "stderr",
          "output_type": "stream",
          "text": [
            "100%|██████████| 5/5 [1:34:12<00:00, 1130.52s/it]"
          ]
        },
        {
          "name": "stdout",
          "output_type": "stream",
          "text": [
            "1837 74\n"
          ]
        },
        {
          "name": "stderr",
          "output_type": "stream",
          "text": [
            "\n"
          ]
        }
      ],
      "source": [
        "for i in tqdm(directory): # 모든 디렉터리 접근\n",
        "    num, testnum = 0, 0\n",
        "    img_path = image_path+i+\"/\" #charm/image/노균병\n",
        "    js_path = json_path+i+\"/\" #charm/json/노균병\n",
        "    save_path = \"img/data/\"+i #img/train/노균병\n",
        "    save_test_path = \"img/test/\"+i\n",
        "    if not os.path.exists(save_path):\n",
        "        os.makedirs(save_path)\n",
        "    if not os.path.exists(save_test_path):\n",
        "        os.makedirs(save_test_path)\n",
        "    for j in os.listdir(js_path): #j:파일이름\n",
        "        with open(js_path+j, \"r\", encoding=\"utf-8\") as f:\n",
        "            data = json.load(f)\n",
        "            farmid = data[\"corps_info\"][\"frm_id\"]\n",
        "            img = data[\"base_info\"][\"image_name\"]\n",
        "        charm_image_path = img_path + img\n",
        "        if(os.path.exists(charm_image_path)):\n",
        "            im = Image.open(charm_image_path)\n",
        "            # 이미지 resize\n",
        "            im = im.resize((224, 224))\n",
        "            # 이미지 JPG로 저장\n",
        "            im = im.convert('RGB')\n",
        "            if farmid == \"FM04\" or farmid == \"FM02\":\n",
        "                testnum+=1\n",
        "                im.save(save_test_path +\"/\"+ img)\n",
        "            else:\n",
        "                num += 1\n",
        "                im.save(save_path+\"/\"+img)\n",
        "    print(num, testnum)"
      ]
    },
    {
      "cell_type": "code",
      "execution_count": null,
      "id": "880f1809",
      "metadata": {
        "scrolled": true,
        "id": "880f1809",
        "outputId": "11b8d981-2b67-4df4-ed7b-412717599c4b"
      },
      "outputs": [
        {
          "name": "stderr",
          "output_type": "stream",
          "text": [
            "Copying files: 101210 files [07:12, 233.84 files/s]\n"
          ]
        }
      ],
      "source": [
        "import splitfolders\n",
        "\n",
        "splitfolders.ratio('img/data',output='img',seed=28,ratio=(.8,.2))"
      ]
    },
    {
      "cell_type": "code",
      "execution_count": null,
      "id": "15614f74",
      "metadata": {
        "id": "15614f74"
      },
      "outputs": [],
      "source": [
        "for i in tqdm(directory): # 모든 디렉터리 접근\n",
        "    num = 0\n",
        "    img_path = image_path+i+\"/\" #image_path\n",
        "    js_path = json_path+i+\"/\" #json_path\n",
        "    save_path = \"img/\"+i\n",
        "    if not os.path.exists(save_path):\n",
        "        os.makedirs(save_path)\n",
        "    for j in os.listdir(js_path):\n",
        "        with open(js_path+j, \"r\", encoding=\"utf-8\") as f:\n",
        "            data = json.load(f)\n",
        "            farmid = data[\"corps_info\"][\"frm_id\"]\n",
        "            img = data[\"base_info\"][\"image_name\"]\n",
        "        if farmid != \"FM04\" and farmid != \"FM02\":\n",
        "            # 이미지 열기\n",
        "            im = Image.open(img_path+img)\n",
        "            # 이미지 resize\n",
        "            im = im.resize((224, 224))\n",
        "            # 이미지 JPG로 저장\n",
        "            im = im.convert('RGB')\n",
        "            im.save(save_path +\"/\"+ img)\n",
        "            num += 1\n",
        "    print(num)"
      ]
    },
    {
      "cell_type": "code",
      "execution_count": null,
      "metadata": {
        "id": "01f6f303"
      },
      "outputs": [],
      "source": [
        "import numpy as np\n",
        "from matplotlib.pyplot import imshow, subplots, title\n",
        "from torchvision import transforms"
      ],
      "id": "01f6f303"
    },
    {
      "cell_type": "code",
      "execution_count": null,
      "metadata": {
        "id": "24f902e8"
      },
      "outputs": [],
      "source": [
        "dia2_similar_path = \"img/train/정상/흰가루병유사\""
      ],
      "id": "24f902e8"
    },
    {
      "cell_type": "code",
      "execution_count": null,
      "metadata": {
        "id": "1abf0950"
      },
      "outputs": [],
      "source": [
        "dict = {}\n",
        "count = 0"
      ],
      "id": "1abf0950"
    },
    {
      "cell_type": "code",
      "execution_count": null,
      "metadata": {
        "id": "cf86b264"
      },
      "outputs": [],
      "source": [
        "def random_transform(image):\n",
        "    bg_color = (30,150,45)\n",
        "    transform = transforms.Compose([\n",
        "        transforms.PILToTensor(),\n",
        "        transforms.RandomHorizontalFlip(p=0.7),\n",
        "        transforms.RandomVerticalFlip(p=0.7),\n",
        "        transforms.RandomAffine(90, shear=20),\n",
        "        transforms.Resize((224, 224)),\n",
        "    ])\n",
        "    return transform(image)"
      ],
      "id": "cf86b264"
    },
    {
      "cell_type": "code",
      "execution_count": null,
      "metadata": {
        "id": "fc0a9ec2",
        "outputId": "a1453985-b34c-461a-efcd-a7cbfc8e5628"
      },
      "outputs": [
        {
          "name": "stdout",
          "output_type": "stream",
          "text": [
            "2938\n"
          ]
        }
      ],
      "source": [
        "lst = os.listdir(dia2_similar_path)\n",
        "for i in range(len(lst)):\n",
        "    image_path = dia2_similar_path + \"/\"+ lst[i]\n",
        "    img = Image.open(image_path)\n",
        "    img = random_transform(img)\n",
        "    toimage = transforms.ToPILImage()\n",
        "    image_name = lst[i].split('.')\n",
        "    if lst[i] in dict:\n",
        "        dict[lst[i]] += 1\n",
        "    else:\n",
        "        dict[lst[i]] = 1\n",
        "    image = toimage(img)\n",
        "    image.save(dia2_similar_path +\"/\"+ image_name[0]+'_'+str(dict[lst[i]])+'.jpg')\n",
        "    count += 1\n",
        "print(count)"
      ],
      "id": "fc0a9ec2"
    }
  ],
  "metadata": {
    "kernelspec": {
      "display_name": "Python 3 (ipykernel)",
      "language": "python",
      "name": "python3"
    },
    "language_info": {
      "codemirror_mode": {
        "name": "ipython",
        "version": 3
      },
      "file_extension": ".py",
      "mimetype": "text/x-python",
      "name": "python",
      "nbconvert_exporter": "python",
      "pygments_lexer": "ipython3",
      "version": "3.9.16"
    },
    "colab": {
      "provenance": [],
      "include_colab_link": true
    }
  },
  "nbformat": 4,
  "nbformat_minor": 5
}